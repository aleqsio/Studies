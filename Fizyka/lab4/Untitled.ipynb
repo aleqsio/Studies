{
 "cells": [
  {
   "cell_type": "code",
   "execution_count": 108,
   "metadata": {
    "collapsed": true
   },
   "outputs": [],
   "source": [
    "import pint, math, scipy.constants"
   ]
  },
  {
   "cell_type": "code",
   "execution_count": 120,
   "metadata": {
    "collapsed": true
   },
   "outputs": [],
   "source": [
    "def ltx(a):\n",
    "    return '{:Lx}'.format(a)"
   ]
  },
  {
   "cell_type": "code",
   "execution_count": 93,
   "metadata": {
    "collapsed": true
   },
   "outputs": [],
   "source": [
    "unit = pint.UnitRegistry()"
   ]
  },
  {
   "cell_type": "code",
   "execution_count": 94,
   "metadata": {
    "collapsed": true
   },
   "outputs": [],
   "source": [
    "t=30*unit.minute\n",
    "t=t.to(unit.second)\n",
    "I=0.5*unit.ampere"
   ]
  },
  {
   "cell_type": "code",
   "execution_count": 95,
   "metadata": {
    "collapsed": true
   },
   "outputs": [],
   "source": [
    "m1=75.748*unit.gram\n",
    "m2=76.044*unit.gram\n",
    "m=m2-m1\n",
    "M1=177.771*unit.gram\n",
    "M2=177.488*unit.gram\n",
    "M=M2-M1\n",
    "klasa=0.5\n",
    "zakres=750*unit.milliampere\n",
    "deltam=0.001*unit.gram\n",
    "um=deltam/math.sqrt(3)"
   ]
  },
  {
   "cell_type": "code",
   "execution_count": 96,
   "metadata": {
    "collapsed": true
   },
   "outputs": [],
   "source": [
    "k=m/I/t"
   ]
  },
  {
   "cell_type": "code",
   "execution_count": 97,
   "metadata": {},
   "outputs": [
    {
     "data": {
      "text/html": [
       "0.3288888888888803 milligram/coulomb"
      ],
      "text/latex": [
       "$0.3288888888888803\\ \\frac{\\mathrm{milligram}}{\\mathrm{coulomb}}$"
      ],
      "text/plain": [
       "<Quantity(0.3288888888888803, 'milligram / coulomb')>"
      ]
     },
     "execution_count": 97,
     "metadata": {},
     "output_type": "execute_result"
    }
   ],
   "source": [
    "k.to(unit.milligram/unit.coulomb)"
   ]
  },
  {
   "cell_type": "code",
   "execution_count": 98,
   "metadata": {
    "collapsed": true
   },
   "outputs": [],
   "source": [
    "u=63.58*unit.gram\n",
    "w=2"
   ]
  },
  {
   "cell_type": "code",
   "execution_count": 112,
   "metadata": {
    "collapsed": true
   },
   "outputs": [],
   "source": [
    "F=u/(w*k)\n",
    "F=F.to(unit.coulomb)"
   ]
  },
  {
   "cell_type": "code",
   "execution_count": 113,
   "metadata": {},
   "outputs": [
    {
     "data": {
      "text/html": [
       "coulomb"
      ],
      "text/latex": [
       "$\\mathrm{coulomb}$"
      ],
      "text/plain": [
       "<Unit('coulomb')>"
      ]
     },
     "execution_count": 113,
     "metadata": {},
     "output_type": "execute_result"
    }
   ],
   "source": [
    "(unit.coulomb)"
   ]
  },
  {
   "cell_type": "code",
   "execution_count": 114,
   "metadata": {
    "collapsed": true
   },
   "outputs": [],
   "source": [
    "e=F/scipy.constants.N_A"
   ]
  },
  {
   "cell_type": "code",
   "execution_count": 172,
   "metadata": {},
   "outputs": [
    {
     "data": {
      "text/html": [
       "1.6050568407318524e-19 coulomb"
      ],
      "text/latex": [
       "$1.6050568407318524e-19\\ \\mathrm{coulomb}$"
      ],
      "text/plain": [
       "<Quantity(1.6050568407318524e-19, 'coulomb')>"
      ]
     },
     "execution_count": 172,
     "metadata": {},
     "output_type": "execute_result"
    }
   ],
   "source": [
    "e.to(unit.coulomb)"
   ]
  },
  {
   "cell_type": "code",
   "execution_count": 173,
   "metadata": {},
   "outputs": [
    {
     "data": {
      "text/plain": [
       "'\\\\SI[]{96658.7837837863}{\\\\coulomb}'"
      ]
     },
     "execution_count": 173,
     "metadata": {},
     "output_type": "execute_result"
    }
   ],
   "source": [
    "ltx(F)"
   ]
  },
  {
   "cell_type": "code",
   "execution_count": 174,
   "metadata": {
    "collapsed": true
   },
   "outputs": [],
   "source": [
    "um=0.01*unit.gram/m"
   ]
  },
  {
   "cell_type": "code",
   "execution_count": 177,
   "metadata": {
    "collapsed": true
   },
   "outputs": [],
   "source": [
    "ut=1*unit.second/t"
   ]
  },
  {
   "cell_type": "code",
   "execution_count": 178,
   "metadata": {
    "collapsed": true
   },
   "outputs": [],
   "source": [
    "uI=((klasa*zakres/100)/I).to_base_units()"
   ]
  },
  {
   "cell_type": "code",
   "execution_count": 179,
   "metadata": {},
   "outputs": [
    {
     "data": {
      "text/html": [
       "0.03378378378378467 dimensionless"
      ],
      "text/latex": [
       "$0.03378378378378467\\ dimensionless$"
      ],
      "text/plain": [
       "<Quantity(0.03378378378378467, 'dimensionless')>"
      ]
     },
     "execution_count": 179,
     "metadata": {},
     "output_type": "execute_result"
    }
   ],
   "source": [
    "um"
   ]
  },
  {
   "cell_type": "code",
   "execution_count": 180,
   "metadata": {},
   "outputs": [
    {
     "data": {
      "text/html": [
       "0.0005555555555555556 dimensionless"
      ],
      "text/latex": [
       "$0.0005555555555555556\\ dimensionless$"
      ],
      "text/plain": [
       "<Quantity(0.0005555555555555556, 'dimensionless')>"
      ]
     },
     "execution_count": 180,
     "metadata": {},
     "output_type": "execute_result"
    }
   ],
   "source": [
    "ut"
   ]
  },
  {
   "cell_type": "code",
   "execution_count": 181,
   "metadata": {},
   "outputs": [
    {
     "data": {
      "text/html": [
       "0.0075 dimensionless"
      ],
      "text/latex": [
       "$0.0075\\ dimensionless$"
      ],
      "text/plain": [
       "<Quantity(0.0075, 'dimensionless')>"
      ]
     },
     "execution_count": 181,
     "metadata": {},
     "output_type": "execute_result"
    }
   ],
   "source": [
    "uI"
   ]
  },
  {
   "cell_type": "code",
   "execution_count": 207,
   "metadata": {},
   "outputs": [],
   "source": [
    "urel=math.sqrt(pow(um,2)+pow(ut,2)+pow(uI,2))"
   ]
  },
  {
   "cell_type": "code",
   "execution_count": 204,
   "metadata": {},
   "outputs": [
    {
     "data": {
      "text/html": [
       "1.6050568407318524e-19 coulomb"
      ],
      "text/latex": [
       "$1.6050568407318524e-19\\ \\mathrm{coulomb}$"
      ],
      "text/plain": [
       "<Quantity(1.6050568407318524e-19, 'coulomb')>"
      ]
     },
     "execution_count": 204,
     "metadata": {},
     "output_type": "execute_result"
    }
   ],
   "source": [
    "e"
   ]
  },
  {
   "cell_type": "code",
   "execution_count": 205,
   "metadata": {},
   "outputs": [
    {
     "data": {
      "text/plain": [
       "'\\\\SI[]{5.555219028462268e-21}{\\\\coulomb}'"
      ]
     },
     "execution_count": 205,
     "metadata": {},
     "output_type": "execute_result"
    }
   ],
   "source": [
    "ltx(urel*e)"
   ]
  },
  {
   "cell_type": "code",
   "execution_count": 197,
   "metadata": {},
   "outputs": [
    {
     "data": {
      "text/html": [
       "0.011383084806967002 milligram/coulomb"
      ],
      "text/latex": [
       "$0.011383084806967002\\ \\frac{\\mathrm{milligram}}{\\mathrm{coulomb}}$"
      ],
      "text/plain": [
       "<Quantity(0.011383084806967002, 'milligram / coulomb')>"
      ]
     },
     "execution_count": 197,
     "metadata": {},
     "output_type": "execute_result"
    }
   ],
   "source": [
    "(urel*k).to(unit.milligram/unit.coulomb)"
   ]
  },
  {
   "cell_type": "code",
   "execution_count": 212,
   "metadata": {},
   "outputs": [
    {
     "data": {
      "text/plain": [
       "'\\\\SI[]{0.01300000000000523}{\\\\gram}'"
      ]
     },
     "execution_count": 212,
     "metadata": {},
     "output_type": "execute_result"
    }
   ],
   "source": [
    "ltx(M+m)"
   ]
  }
 ],
 "metadata": {
  "kernelspec": {
   "display_name": "Python 3",
   "language": "python",
   "name": "python3"
  },
  "language_info": {
   "codemirror_mode": {
    "name": "ipython",
    "version": 3
   },
   "file_extension": ".py",
   "mimetype": "text/x-python",
   "name": "python",
   "nbconvert_exporter": "python",
   "pygments_lexer": "ipython3",
   "version": "3.6.2"
  }
 },
 "nbformat": 4,
 "nbformat_minor": 2
}

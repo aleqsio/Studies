{
 "cells": [
  {
   "cell_type": "code",
   "execution_count": 36,
   "metadata": {
    "collapsed": true
   },
   "outputs": [],
   "source": [
    "import pint\n",
    "import numpy as np\n",
    "import scipy as sp\n",
    "import pandas as pd\n",
    "import matplotlib.pyplot as plt\n",
    "from mpl_toolkits.mplot3d import Axes3D\n",
    "import math\n",
    "unit = pint.UnitRegistry()\n",
    "def ltx(a):\n",
    "    print(a.to_latex(escape=False))"
   ]
  },
  {
   "cell_type": "code",
   "execution_count": 37,
   "metadata": {},
   "outputs": [
    {
     "name": "stdout",
     "output_type": "stream",
     "text": [
      "\\begin{tabular}{lrrrrrr}\n",
      "\\toprule\n",
      "{} &      r &    va &    vb &    vc &       avg &      teor \\\\\n",
      "\\midrule\n",
      "0 &  0.021 &  6.85 &  6.38 &  7.20 &  6.810000 &  6.432036 \\\\\n",
      "1 &  0.030 &  5.22 &  4.92 &  5.75 &  5.296667 &  4.716792 \\\\\n",
      "2 &  0.040 &  3.98 &  3.82 &  4.45 &  4.083333 &  3.333333 \\\\\n",
      "3 &  0.050 &  3.04 &  2.90 &  3.40 &  3.113333 &  2.260240 \\\\\n",
      "4 &  0.060 &  2.21 &  2.12 &  2.70 &  2.343333 &  1.383458 \\\\\n",
      "5 &  0.070 &  1.63 &  1.41 &  1.90 &  1.646667 &  0.642150 \\\\\n",
      "6 &  0.079 &  1.18 &  0.86 &  1.22 &  1.086667 &  0.060491 \\\\\n",
      "\\bottomrule\n",
      "\\end{tabular}\n",
      "\n"
     ]
    }
   ],
   "source": [
    "rounddata = pd.read_csv('round.csv')\n",
    "rounddata['va']/=100\n",
    "rounddata['vb']/=100\n",
    "rounddata['vc']/=100\n",
    "rounddata['r']+=10\n",
    "rounddata['r']/=1000\n",
    "rounddata['avg']=np.average(pd.concat([rounddata['va'],rounddata['vb'],rounddata['vc']],axis=1).values,axis=1)\n",
    "rounddata['teor']=-10/np.log(80/10)*np.log(vAvg['r']/(0.08))\n",
    "ltx(rounddata)"
   ]
  },
  {
   "cell_type": "code",
   "execution_count": 38,
   "metadata": {},
   "outputs": [
    {
     "data": {
      "text/html": [
       "<div>\n",
       "<style>\n",
       "    .dataframe thead tr:only-child th {\n",
       "        text-align: right;\n",
       "    }\n",
       "\n",
       "    .dataframe thead th {\n",
       "        text-align: left;\n",
       "    }\n",
       "\n",
       "    .dataframe tbody tr th {\n",
       "        vertical-align: top;\n",
       "    }\n",
       "</style>\n",
       "<table border=\"1\" class=\"dataframe\">\n",
       "  <thead>\n",
       "    <tr style=\"text-align: right;\">\n",
       "      <th></th>\n",
       "      <th>r</th>\n",
       "      <th>avg</th>\n",
       "      <th>teor</th>\n",
       "    </tr>\n",
       "  </thead>\n",
       "  <tbody>\n",
       "    <tr>\n",
       "      <th>0</th>\n",
       "      <td>0.021</td>\n",
       "      <td>6.810000</td>\n",
       "      <td>6.432036</td>\n",
       "    </tr>\n",
       "    <tr>\n",
       "      <th>1</th>\n",
       "      <td>0.030</td>\n",
       "      <td>5.296667</td>\n",
       "      <td>4.716792</td>\n",
       "    </tr>\n",
       "    <tr>\n",
       "      <th>2</th>\n",
       "      <td>0.040</td>\n",
       "      <td>4.083333</td>\n",
       "      <td>3.333333</td>\n",
       "    </tr>\n",
       "    <tr>\n",
       "      <th>3</th>\n",
       "      <td>0.050</td>\n",
       "      <td>3.113333</td>\n",
       "      <td>2.260240</td>\n",
       "    </tr>\n",
       "    <tr>\n",
       "      <th>4</th>\n",
       "      <td>0.060</td>\n",
       "      <td>2.343333</td>\n",
       "      <td>1.383458</td>\n",
       "    </tr>\n",
       "    <tr>\n",
       "      <th>5</th>\n",
       "      <td>0.070</td>\n",
       "      <td>1.646667</td>\n",
       "      <td>0.642150</td>\n",
       "    </tr>\n",
       "    <tr>\n",
       "      <th>6</th>\n",
       "      <td>0.079</td>\n",
       "      <td>1.086667</td>\n",
       "      <td>0.060491</td>\n",
       "    </tr>\n",
       "  </tbody>\n",
       "</table>\n",
       "</div>"
      ],
      "text/plain": [
       "       r       avg      teor\n",
       "0  0.021  6.810000  6.432036\n",
       "1  0.030  5.296667  4.716792\n",
       "2  0.040  4.083333  3.333333\n",
       "3  0.050  3.113333  2.260240\n",
       "4  0.060  2.343333  1.383458\n",
       "5  0.070  1.646667  0.642150\n",
       "6  0.079  1.086667  0.060491"
      ]
     },
     "execution_count": 38,
     "metadata": {},
     "output_type": "execute_result"
    }
   ],
   "source": [
    "vAvg=pd.DataFrame()\n",
    "vAvg['r']=rounddata['r']\n",
    "vAvg['avg']=np.average(pd.concat([rounddata['va'],rounddata['vb'],rounddata['vc']],axis=1).values,axis=1)\n",
    "vAvg['teor']=-10/np.log(80/10)*np.log(vAvg['r']/(0.08))\n",
    "vAvg"
   ]
  },
  {
   "cell_type": "markdown",
   "metadata": {},
   "source": [
    "vAvg"
   ]
  },
  {
   "cell_type": "code",
   "execution_count": 47,
   "metadata": {},
   "outputs": [
    {
     "name": "stdout",
     "output_type": "stream",
     "text": [
      "\\begin{tabular}{lrrr}\n",
      "\\toprule\n",
      "{} &       r &           e &       eteor \\\\\n",
      "\\midrule\n",
      "0 &  0.0255 & -168.148148 & -188.587587 \\\\\n",
      "1 &  0.0350 & -121.333333 & -137.399528 \\\\\n",
      "2 &  0.0450 &  -97.000000 & -106.866299 \\\\\n",
      "3 &  0.0550 &  -77.000000 &  -87.436063 \\\\\n",
      "4 &  0.0650 &  -69.666667 &  -73.984361 \\\\\n",
      "5 &  0.0745 &  -62.222222 &  -64.550114 \\\\\n",
      "\\bottomrule\n",
      "\\end{tabular}\n",
      "\n"
     ]
    }
   ],
   "source": [
    "E=pd.DataFrame()\n",
    "E['r']=(vAvg['r'].values[1:] + vAvg['r'].values[:-1]) /2\n",
    "E['e']=(vAvg['avg'].values[1:] - vAvg['avg'].values[:-1]) / (vAvg['r'].values[1:] - vAvg['r'].values[:-1])\n",
    "E['eteor']=-10/E['r']/np.log(80/10)\n",
    "ltx(E)"
   ]
  },
  {
   "cell_type": "code",
   "execution_count": 55,
   "metadata": {
    "collapsed": true,
    "scrolled": true
   },
   "outputs": [],
   "source": [
    "fig = plt.figure()\n",
    "teorx=np.linspace(20,80,100)\n",
    "teory=-10/np.log(80/10)*np.log(teorx/(80))\n",
    "teorex=np.linspace(25,75,100)\n",
    "teorey=-10/teorex*1000/np.log(80/10)\n",
    "ax = fig.add_subplot(211)\n",
    "bx = fig.add_subplot(212)\n",
    "ax.grid()\n",
    "ax.set_ylabel(\"V teor (dół), V prakt (góra)\")\n",
    "bx.set_ylabel(\"E teor (dół), E prakt (góra)\")\n",
    "bx.grid()\n",
    "ax.plot(teorx/1000,teory,color='blue')\n",
    "ax.plot(vAvg['r'],vAvg['avg'],color='red')\n",
    "bx.plot(E['r'],E['e'],color='red')\n",
    "bx.plot(teorex/1000,teorey,color='blue')\n",
    "\n",
    "fig.savefig('round.pgf')"
   ]
  },
  {
   "cell_type": "code",
   "execution_count": 22,
   "metadata": {},
   "outputs": [
    {
     "data": {
      "text/plain": [
       "'\\\\begin{tabular}{lrrrrr}\\n\\\\toprule\\n{} &      r &    va &    vb &    vc &      vavg \\\\\\\\\\n\\\\midrule\\n0 &  0.021 &  6.85 &  6.38 &  7.20 &  6.810000 \\\\\\\\\\n1 &  0.030 &  5.22 &  4.92 &  5.75 &  5.296667 \\\\\\\\\\n2 &  0.040 &  3.98 &  3.82 &  4.45 &  4.083333 \\\\\\\\\\n3 &  0.050 &  3.04 &  2.90 &  3.40 &  3.113333 \\\\\\\\\\n4 &  0.060 &  2.21 &  2.12 &  2.70 &  2.343333 \\\\\\\\\\n5 &  0.070 &  1.63 &  1.41 &  1.90 &  1.646667 \\\\\\\\\\n6 &  0.079 &  1.18 &  0.86 &  1.22 &  1.086667 \\\\\\\\\\n\\\\bottomrule\\n\\\\end{tabular}\\n'"
      ]
     },
     "execution_count": 22,
     "metadata": {},
     "output_type": "execute_result"
    }
   ],
   "source": [
    "rounddata['vavg']=(rounddata['vb']+rounddata['vc']+rounddata['va'])/3\n",
    "rounddata['vteor']=(rounddata['vb']+rounddata['vc']+rounddata['va'])/3\n",
    "rounddata.to_latex()"
   ]
  },
  {
   "cell_type": "code",
   "execution_count": 157,
   "metadata": {},
   "outputs": [],
   "source": [
    "columns=['ex','ey','E']\n",
    "\n",
    "data=pd.DataFrame([[0.25,0.14,0.35],[0.58,0.48,0.79],[0.25,0.14,0.35]],columns=['curr','up','left'])\n",
    "a=(data['curr']-data['up'])/0.02\n",
    "b=(data['curr']-data['left'])/0.02\n",
    "d=np.round(np.linalg.norm(np.array([a,b])),2)\n",
    "vectors=pd.DataFrame({'ey':a,'ex':b,'|e|':d})\n"
   ]
  },
  {
   "cell_type": "code",
   "execution_count": 158,
   "metadata": {},
   "outputs": [
    {
     "data": {
      "text/html": [
       "<div>\n",
       "<style>\n",
       "    .dataframe thead tr:only-child th {\n",
       "        text-align: right;\n",
       "    }\n",
       "\n",
       "    .dataframe thead th {\n",
       "        text-align: left;\n",
       "    }\n",
       "\n",
       "    .dataframe tbody tr th {\n",
       "        vertical-align: top;\n",
       "    }\n",
       "</style>\n",
       "<table border=\"1\" class=\"dataframe\">\n",
       "  <thead>\n",
       "    <tr style=\"text-align: right;\">\n",
       "      <th></th>\n",
       "      <th>ex</th>\n",
       "      <th>ey</th>\n",
       "      <th>|e|</th>\n",
       "    </tr>\n",
       "  </thead>\n",
       "  <tbody>\n",
       "    <tr>\n",
       "      <th>0</th>\n",
       "      <td>-5.0</td>\n",
       "      <td>5.5</td>\n",
       "      <td>16.0</td>\n",
       "    </tr>\n",
       "    <tr>\n",
       "      <th>1</th>\n",
       "      <td>-10.5</td>\n",
       "      <td>5.0</td>\n",
       "      <td>16.0</td>\n",
       "    </tr>\n",
       "    <tr>\n",
       "      <th>2</th>\n",
       "      <td>-5.0</td>\n",
       "      <td>5.5</td>\n",
       "      <td>16.0</td>\n",
       "    </tr>\n",
       "  </tbody>\n",
       "</table>\n",
       "</div>"
      ],
      "text/plain": [
       "     ex   ey   |e|\n",
       "0  -5.0  5.5  16.0\n",
       "1 -10.5  5.0  16.0\n",
       "2  -5.0  5.5  16.0"
      ]
     },
     "execution_count": 158,
     "metadata": {},
     "output_type": "execute_result"
    }
   ],
   "source": [
    "vectors"
   ]
  }
 ],
 "metadata": {
  "kernelspec": {
   "display_name": "Python 3",
   "language": "python",
   "name": "python3"
  },
  "language_info": {
   "codemirror_mode": {
    "name": "ipython",
    "version": 3
   },
   "file_extension": ".py",
   "mimetype": "text/x-python",
   "name": "python",
   "nbconvert_exporter": "python",
   "pygments_lexer": "ipython3",
   "version": "3.6.2"
  }
 },
 "nbformat": 4,
 "nbformat_minor": 2
}

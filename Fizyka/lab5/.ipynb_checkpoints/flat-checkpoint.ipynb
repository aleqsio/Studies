{
 "cells": [
  {
   "cell_type": "code",
   "execution_count": 71,
   "metadata": {},
   "outputs": [
    {
     "ename": "ModuleNotFoundError",
     "evalue": "No module named 'texfig'",
     "output_type": "error",
     "traceback": [
      "\u001b[1;31m---------------------------------------------------------------------------\u001b[0m",
      "\u001b[1;31mModuleNotFoundError\u001b[0m                       Traceback (most recent call last)",
      "\u001b[1;32m<ipython-input-71-0a441e9a55e5>\u001b[0m in \u001b[0;36m<module>\u001b[1;34m()\u001b[0m\n\u001b[0;32m      7\u001b[0m \u001b[1;32mimport\u001b[0m \u001b[0mmath\u001b[0m\u001b[1;33m\u001b[0m\u001b[0m\n\u001b[0;32m      8\u001b[0m \u001b[0munit\u001b[0m \u001b[1;33m=\u001b[0m \u001b[0mpint\u001b[0m\u001b[1;33m.\u001b[0m\u001b[0mUnitRegistry\u001b[0m\u001b[1;33m(\u001b[0m\u001b[1;33m)\u001b[0m\u001b[1;33m\u001b[0m\u001b[0m\n\u001b[1;32m----> 9\u001b[1;33m \u001b[1;32mimport\u001b[0m \u001b[0mtexfig\u001b[0m\u001b[1;33m\u001b[0m\u001b[0m\n\u001b[0m",
      "\u001b[1;31mModuleNotFoundError\u001b[0m: No module named 'texfig'"
     ]
    }
   ],
   "source": [
    "import pint\n",
    "import numpy as np\n",
    "import scipy as sp\n",
    "import pandas as pd\n",
    "import matplotlib.pyplot as plt\n",
    "from mpl_toolkits.mplot3d import Axes3D\n",
    "import math\n",
    "unit = pint.UnitRegistry()\n"
   ]
  },
  {
   "cell_type": "code",
   "execution_count": 41,
   "metadata": {},
   "outputs": [
    {
     "data": {
      "text/html": [
       "<div>\n",
       "<style>\n",
       "    .dataframe thead tr:only-child th {\n",
       "        text-align: right;\n",
       "    }\n",
       "\n",
       "    .dataframe thead th {\n",
       "        text-align: left;\n",
       "    }\n",
       "\n",
       "    .dataframe tbody tr th {\n",
       "        vertical-align: top;\n",
       "    }\n",
       "</style>\n",
       "<table border=\"1\" class=\"dataframe\">\n",
       "  <thead>\n",
       "    <tr style=\"text-align: right;\">\n",
       "      <th></th>\n",
       "      <th>x</th>\n",
       "      <th>va</th>\n",
       "      <th>vb</th>\n",
       "      <th>vc</th>\n",
       "      <th>vavg</th>\n",
       "      <th>vteor</th>\n",
       "    </tr>\n",
       "  </thead>\n",
       "  <tbody>\n",
       "    <tr>\n",
       "      <th>0</th>\n",
       "      <td>0.5</td>\n",
       "      <td>1.31</td>\n",
       "      <td>1.07</td>\n",
       "      <td>1.15</td>\n",
       "      <td>1.1</td>\n",
       "      <td>1.0</td>\n",
       "    </tr>\n",
       "    <tr>\n",
       "      <th>1</th>\n",
       "      <td>1.0</td>\n",
       "      <td>2.31</td>\n",
       "      <td>2.19</td>\n",
       "      <td>2.00</td>\n",
       "      <td>2.1</td>\n",
       "      <td>2.0</td>\n",
       "    </tr>\n",
       "    <tr>\n",
       "      <th>2</th>\n",
       "      <td>1.5</td>\n",
       "      <td>2.96</td>\n",
       "      <td>3.23</td>\n",
       "      <td>2.90</td>\n",
       "      <td>3.0</td>\n",
       "      <td>3.0</td>\n",
       "    </tr>\n",
       "    <tr>\n",
       "      <th>3</th>\n",
       "      <td>2.0</td>\n",
       "      <td>4.16</td>\n",
       "      <td>4.03</td>\n",
       "      <td>3.98</td>\n",
       "      <td>4.0</td>\n",
       "      <td>4.0</td>\n",
       "    </tr>\n",
       "    <tr>\n",
       "      <th>4</th>\n",
       "      <td>2.5</td>\n",
       "      <td>5.01</td>\n",
       "      <td>5.06</td>\n",
       "      <td>4.90</td>\n",
       "      <td>4.9</td>\n",
       "      <td>5.0</td>\n",
       "    </tr>\n",
       "    <tr>\n",
       "      <th>5</th>\n",
       "      <td>3.0</td>\n",
       "      <td>6.24</td>\n",
       "      <td>5.98</td>\n",
       "      <td>5.84</td>\n",
       "      <td>6.0</td>\n",
       "      <td>6.0</td>\n",
       "    </tr>\n",
       "    <tr>\n",
       "      <th>6</th>\n",
       "      <td>3.5</td>\n",
       "      <td>7.03</td>\n",
       "      <td>7.05</td>\n",
       "      <td>6.81</td>\n",
       "      <td>6.9</td>\n",
       "      <td>7.0</td>\n",
       "    </tr>\n",
       "    <tr>\n",
       "      <th>7</th>\n",
       "      <td>4.0</td>\n",
       "      <td>7.64</td>\n",
       "      <td>8.00</td>\n",
       "      <td>8.05</td>\n",
       "      <td>7.8</td>\n",
       "      <td>8.0</td>\n",
       "    </tr>\n",
       "    <tr>\n",
       "      <th>8</th>\n",
       "      <td>4.5</td>\n",
       "      <td>8.96</td>\n",
       "      <td>8.89</td>\n",
       "      <td>8.85</td>\n",
       "      <td>8.9</td>\n",
       "      <td>9.0</td>\n",
       "    </tr>\n",
       "  </tbody>\n",
       "</table>\n",
       "</div>"
      ],
      "text/plain": [
       "     x    va    vb    vc  vavg  vteor\n",
       "0  0.5  1.31  1.07  1.15   1.1    1.0\n",
       "1  1.0  2.31  2.19  2.00   2.1    2.0\n",
       "2  1.5  2.96  3.23  2.90   3.0    3.0\n",
       "3  2.0  4.16  4.03  3.98   4.0    4.0\n",
       "4  2.5  5.01  5.06  4.90   4.9    5.0\n",
       "5  3.0  6.24  5.98  5.84   6.0    6.0\n",
       "6  3.5  7.03  7.05  6.81   6.9    7.0\n",
       "7  4.0  7.64  8.00  8.05   7.8    8.0\n",
       "8  4.5  8.96  8.89  8.85   8.9    9.0"
      ]
     },
     "execution_count": 41,
     "metadata": {},
     "output_type": "execute_result"
    }
   ],
   "source": [
    "flat = pd.read_csv('flat.csv')\n",
    "va=flat['va']\n",
    "vb=flat['vb']\n",
    "vc=flat['vc']\n",
    "va/=100\n",
    "vb/=100\n",
    "vc/=100\n",
    "flat['x']=np.linspace(0,5,11)[1:-1]\n",
    "flat['vavg']=((vc+vb+va)*10//3)/10\n",
    "flat['vteor']=flat['x']*2\n",
    "flat = flat[['x', 'va','vb','vc','vavg','vteor']]\n",
    "flat\n"
   ]
  },
  {
   "cell_type": "code",
   "execution_count": 70,
   "metadata": {
    "scrolled": true
   },
   "outputs": [
    {
     "name": "stderr",
     "output_type": "stream",
     "text": [
      "C:\\Users\\User\\Anaconda3\\lib\\site-packages\\matplotlib\\pyplot.py:523: RuntimeWarning: More than 20 figures have been opened. Figures created through the pyplot interface (`matplotlib.pyplot.figure`) are retained until explicitly closed and may consume too much memory. (To control this warning, see the rcParam `figure.max_open_warning`).\n",
      "  max_open_warning, RuntimeWarning)\n"
     ]
    },
    {
     "data": {
      "image/png": "[encoded data removed]",
      "text/plain": [
       "<matplotlib.figure.Figure at 0x203d2dfceb8>"
      ]
     },
     "execution_count": 70,
     "metadata": {},
     "output_type": "execute_result"
    }
   ],
   "source": [
    "fig = plt.figure()\n",
    "teorx=np.linspace(20,80,100)\n",
    "teory=10/np.log(80/10)*np.log(teorx/(80))\n",
    "teorex=np.linspace(20,80,100)\n",
    "teorey=-10/teorex*1000/np.log(80/10)\n",
    "ax = fig.add_subplot(212)\n",
    "bx = fig.add_subplot(211)\n",
    "ax.grid()\n",
    "plt.xlabel(\"x [cm]\")\n",
    "ax.ylabel(\"V teor[V]\")\n",
    "plt.grid()\n",
    "ax.scatter(flat['x'],flat['vavg'],color='black')\n",
    "bx.scatter(flat['x'],flat['vteor'],color='black')\n",
    "ax.plot(flat['x'],flat['vavg'],color='black')\n",
    "bx.plot(flat['x'],flat['vteor'],color='black')\n",
    "fig"
   ]
  },
  {
   "cell_type": "code",
   "execution_count": 22,
   "metadata": {},
   "outputs": [
    {
     "data": {
      "text/plain": [
       "'\\\\begin{tabular}{lrrrrr}\\n\\\\toprule\\n{} &      r &    va &    vb &    vc &      vavg \\\\\\\\\\n\\\\midrule\\n0 &  0.021 &  6.85 &  6.38 &  7.20 &  6.810000 \\\\\\\\\\n1 &  0.030 &  5.22 &  4.92 &  5.75 &  5.296667 \\\\\\\\\\n2 &  0.040 &  3.98 &  3.82 &  4.45 &  4.083333 \\\\\\\\\\n3 &  0.050 &  3.04 &  2.90 &  3.40 &  3.113333 \\\\\\\\\\n4 &  0.060 &  2.21 &  2.12 &  2.70 &  2.343333 \\\\\\\\\\n5 &  0.070 &  1.63 &  1.41 &  1.90 &  1.646667 \\\\\\\\\\n6 &  0.079 &  1.18 &  0.86 &  1.22 &  1.086667 \\\\\\\\\\n\\\\bottomrule\\n\\\\end{tabular}\\n'"
      ]
     },
     "execution_count": 22,
     "metadata": {},
     "output_type": "execute_result"
    }
   ],
   "source": [
    "rounddata['vavg']=(rounddata['vb']+rounddata['vc']+rounddata['va'])/3\n",
    "rounddata['vteor']=(rounddata['vb']+rounddata['vc']+rounddata['va'])/3\n",
    "rounddata.to_latex()"
   ]
  },
  {
   "cell_type": "code",
   "execution_count": null,
   "metadata": {
    "collapsed": true
   },
   "outputs": [],
   "source": []
  },
  {
   "cell_type": "code",
   "execution_count": null,
   "metadata": {
    "collapsed": true
   },
   "outputs": [],
   "source": []
  }
 ],
 "metadata": {
  "kernelspec": {
   "display_name": "Python 3",
   "language": "python",
   "name": "python3"
  },
  "language_info": {
   "codemirror_mode": {
    "name": "ipython",
    "version": 3
   },
   "file_extension": ".py",
   "mimetype": "text/x-python",
   "name": "python",
   "nbconvert_exporter": "python",
   "pygments_lexer": "ipython3",
   "version": "3.6.2"
  }
 },
 "nbformat": 4,
 "nbformat_minor": 2
}

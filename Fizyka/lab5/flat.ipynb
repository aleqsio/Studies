{
 "cells": [
  {
   "cell_type": "code",
   "execution_count": 72,
   "metadata": {},
   "outputs": [],
   "source": [
    "import pint\n",
    "import numpy as np\n",
    "import scipy as sp\n",
    "import pandas as pd\n",
    "import matplotlib.pyplot as plt\n",
    "from mpl_toolkits.mplot3d import Axes3D\n",
    "import math\n",
    "unit = pint.UnitRegistry()\n"
   ]
  },
  {
   "cell_type": "code",
   "execution_count": 157,
   "metadata": {},
   "outputs": [
    {
     "name": "stdout",
     "output_type": "stream",
     "text": [
      "\\begin{tabular}{lrrrrrr}\n",
      "\\toprule\n",
      "{} &    x &    va &    vb &    vc &      vavg &  vteor \\\\\n",
      "\\midrule\n",
      "0 &  0.5 &  1.31 &  1.07 &  1.15 &  1.176667 &    1.0 \\\\\n",
      "1 &  1.0 &  2.31 &  2.19 &  2.00 &  2.166667 &    2.0 \\\\\n",
      "2 &  1.5 &  2.96 &  3.23 &  2.90 &  3.030000 &    3.0 \\\\\n",
      "3 &  2.0 &  4.16 &  4.03 &  3.98 &  4.056667 &    4.0 \\\\\n",
      "4 &  2.5 &  5.01 &  5.06 &  4.90 &  4.990000 &    5.0 \\\\\n",
      "5 &  3.0 &  6.24 &  5.98 &  5.84 &  6.020000 &    6.0 \\\\\n",
      "6 &  3.5 &  7.03 &  7.05 &  6.81 &  6.963333 &    7.0 \\\\\n",
      "7 &  4.0 &  7.64 &  8.00 &  8.05 &  7.896667 &    8.0 \\\\\n",
      "8 &  4.5 &  8.96 &  8.89 &  8.85 &  8.900000 &    9.0 \\\\\n",
      "\\bottomrule\n",
      "\\end{tabular}\n",
      "\n"
     ]
    }
   ],
   "source": [
    "flat = pd.read_csv('flat.csv')\n",
    "va=flat['va']\n",
    "vb=flat['vb']\n",
    "vc=flat['vc']\n",
    "va/=100\n",
    "vb/=100\n",
    "vc/=100\n",
    "flat['x']=np.linspace(0,5,11)[1:-1]\n",
    "flat['vavg']=(vc+vb+va)/3\n",
    "flat['vteor']=flat['x']*2\n",
    "flat = flat[['x', 'va','vb','vc','vavg','vteor']]\n",
    "ltx(flat)"
   ]
  },
  {
   "cell_type": "code",
   "execution_count": 134,
   "metadata": {
    "collapsed": true
   },
   "outputs": [],
   "source": [
    "def ltx(a):\n",
    "    print(a.to_latex(escape=False))"
   ]
  },
  {
   "cell_type": "code",
   "execution_count": 135,
   "metadata": {
    "scrolled": true
   },
   "outputs": [
    {
     "name": "stdout",
     "output_type": "stream",
     "text": [
      "\\begin{tabular}{lrrr}\n",
      "\\toprule\n",
      "{} &     x &      E_dosw &  E_teor \\\\\n",
      "\\midrule\n",
      "0 &  0.75 &  198.000000 &   200.0 \\\\\n",
      "1 &  1.25 &  172.666667 &   200.0 \\\\\n",
      "2 &  1.75 &  205.333333 &   200.0 \\\\\n",
      "3 &  2.25 &  186.666667 &   200.0 \\\\\n",
      "4 &  2.75 &  206.000000 &   200.0 \\\\\n",
      "5 &  3.25 &  188.666667 &   200.0 \\\\\n",
      "6 &  3.75 &  186.666667 &   200.0 \\\\\n",
      "7 &  4.25 &  200.666667 &   200.0 \\\\\n",
      "\\bottomrule\n",
      "\\end{tabular}\n",
      "\n"
     ]
    }
   ],
   "source": [
    "E=pd.DataFrame()\n",
    "E['x']=(flat['x'].values[1:] + flat['x'].values[:-1]) /2\n",
    "E['E_dosw']=(flat['vavg'].values[1:] - flat['vavg'].values[:-1]) / (flat['x'].values[1:] - flat['x'].values[:-1])*100\n",
    "E['E_teor']=np.tile(10/5*100,8)\n",
    "ltx(E)"
   ]
  },
  {
   "cell_type": "code",
   "execution_count": 146,
   "metadata": {
    "scrolled": false
   },
   "outputs": [],
   "source": [
    "fig = plt.figure()\n",
    "plt.tight_layout(pad=2, w_pad=0.5, h_pad=2.0)\n",
    "\n",
    "plt.xlabel(\"x [cm]\")\n",
    "plt.ylabel(\"E doświadczalne[V/m]\")\n",
    "plt.grid()\n",
    "\n",
    "plt.scatter(E['x'],E['E_dosw'],color='black')\n",
    "plt.plot(E['x'],E['E_teor'],color='black')\n",
    "plt.ylim(ymin=0)\n",
    "plt.savefig('flate.pgf')"
   ]
  },
  {
   "cell_type": "code",
   "execution_count": 22,
   "metadata": {},
   "outputs": [
    {
     "data": {
      "text/plain": [
       "'\\\\begin{tabular}{lrrrrr}\\n\\\\toprule\\n{} &      r &    va &    vb &    vc &      vavg \\\\\\\\\\n\\\\midrule\\n0 &  0.021 &  6.85 &  6.38 &  7.20 &  6.810000 \\\\\\\\\\n1 &  0.030 &  5.22 &  4.92 &  5.75 &  5.296667 \\\\\\\\\\n2 &  0.040 &  3.98 &  3.82 &  4.45 &  4.083333 \\\\\\\\\\n3 &  0.050 &  3.04 &  2.90 &  3.40 &  3.113333 \\\\\\\\\\n4 &  0.060 &  2.21 &  2.12 &  2.70 &  2.343333 \\\\\\\\\\n5 &  0.070 &  1.63 &  1.41 &  1.90 &  1.646667 \\\\\\\\\\n6 &  0.079 &  1.18 &  0.86 &  1.22 &  1.086667 \\\\\\\\\\n\\\\bottomrule\\n\\\\end{tabular}\\n'"
      ]
     },
     "execution_count": 22,
     "metadata": {},
     "output_type": "execute_result"
    }
   ],
   "source": [
    "fig = plt.figure()\n",
    "\n",
    "teorx=np.linspace(20,80,100)\n",
    "teory=10/np.log(80/10)*np.log(teorx/(80))\n",
    "teorex=np.linspace(20,80,100)\n",
    "teorey=-10/teorex*1000/np.log(80/10)\n",
    "ax = fig.add_subplot(212)\n",
    "bx = fig.add_subplot(211)\n",
    "ax.grid()\n",
    "plt.tight_layout(pad=2, w_pad=0.5, h_pad=2.0)\n",
    "\n",
    "ax.set_xlabel(\"x [cm]\")\n",
    "bx.set_xlabel(\"x [cm]\")\n",
    "ax.set_ylabel(\"V doświadczalne[V]\")\n",
    "bx.set_ylabel(\"V teoretyczne[V]\")\n",
    "plt.grid()\n",
    "ax.scatter(flat['x'],flat['vavg'],color='black')\n",
    "bx.scatter(flat['x'],flat['vteor'],color='black')\n",
    "ax.plot(flat['x'],flat['vavg'],color='black')\n",
    "bx.plot(flat['x'],flat['vteor'],color='black')\n",
    "fig.savefig('flat.pgf')"
   ]
  },
  {
   "cell_type": "code",
   "execution_count": null,
   "metadata": {
    "collapsed": true
   },
   "outputs": [],
   "source": []
  },
  {
   "cell_type": "code",
   "execution_count": null,
   "metadata": {
    "collapsed": true
   },
   "outputs": [],
   "source": []
  }
 ],
 "metadata": {
  "kernelspec": {
   "display_name": "Python 3",
   "language": "python",
   "name": "python3"
  },
  "language_info": {
   "codemirror_mode": {
    "name": "ipython",
    "version": 3
   },
   "file_extension": ".py",
   "mimetype": "text/x-python",
   "name": "python",
   "nbconvert_exporter": "python",
   "pygments_lexer": "ipython3",
   "version": "3.6.2"
  }
 },
 "nbformat": 4,
 "nbformat_minor": 2
}
